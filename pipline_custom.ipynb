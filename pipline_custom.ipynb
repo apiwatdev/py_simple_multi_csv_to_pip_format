{
 "cells": [
  {
   "cell_type": "code",
   "execution_count": 204,
   "metadata": {},
   "outputs": [],
   "source": [
    "import pandas as pd\n",
    "import glob\n",
    "import os\n",
    "import random\n",
    "import textwrap\n"
   ]
  },
  {
   "cell_type": "code",
   "execution_count": 205,
   "metadata": {},
   "outputs": [
    {
     "name": "stdout",
     "output_type": "stream",
     "text": [
      "Files read into dataframes: dict_keys(['1-test1', '2-test2', '3-test3', '4-test4', '5-test', '6-test'])\n"
     ]
    }
   ],
   "source": [
    "# Define the folder path\n",
    "folder_path = 'raw_data'\n",
    "\n",
    "# Get a list of all CSV files in the folder and sort them by name\n",
    "all_files = sorted(glob.glob(os.path.join(folder_path, '*.csv')))\n",
    "\n",
    "# Dictionary to hold the dataframes\n",
    "dataframes = {}\n",
    "\n",
    "# Loop through each file and read it into a dataframe\n",
    "for file in all_files:\n",
    "    # Get the file name without the extension\n",
    "    file_name = os.path.splitext(os.path.basename(file))[0]\n",
    "    \n",
    "    # Read the file into a dataframe and store it in the dictionary\n",
    "    dataframes[file_name] = pd.read_csv(file)\n",
    "\n",
    "# Display the keys of the dictionary (file names)\n",
    "print(\"Files read into dataframes:\", dataframes.keys())\n"
   ]
  },
  {
   "cell_type": "code",
   "execution_count": 206,
   "metadata": {},
   "outputs": [
    {
     "name": "stdout",
     "output_type": "stream",
     "text": [
      "Data from 1: [['test'], ['test2'], ['test3']]\n",
      "Data from 2: [['2-test'], ['2-test2'], ['2-test3']]\n",
      "Data from 3: [['3-test'], ['3-test2'], ['3-test3'], ['3-test4'], ['3-test5'], ['3-test6'], ['3-test7'], ['3-test8'], ['3-test9'], ['3-test10'], ['3-test11'], ['3-test12']]\n",
      "Data from 4: [['4-test'], ['4-test2'], ['4-test3'], ['4-test4'], ['4-test5'], ['4-test6'], ['4-test7'], ['4-test8'], ['4-test9'], ['4-test10'], ['4-test11'], ['4-test12']]\n",
      "Data from 5: [['5-apiwat'], ['5-apiwat2'], ['5-apiwat3'], ['5-apiwat4'], ['5-apiwat5'], ['5-apiwat6'], ['5-apiwat7'], ['5-apiwat8'], ['5-apiwat9'], ['5-apiwat10'], ['5-apiwat11'], ['5-apiwat12']]\n",
      "Data from 6: [['60001'], [60002], [60003], [60004], [60005], [60006], [60007], [60008], [60009], [600010], [600011], [600012]]\n"
     ]
    }
   ],
   "source": [
    "data_array = []\n",
    "\n",
    "# Loop through each file and read its data\n",
    "for file in all_files:\n",
    "    # Read the CSV file into a dataframe\n",
    "    df = pd.read_csv(file)\n",
    "    \n",
    "    header = df.columns.tolist()\n",
    "    data_array.append([header]+df.values.tolist())\n",
    "\n",
    "for i, data in enumerate(data_array):\n",
    "   print(f\"Data from {i+1}: {data}\")"
   ]
  },
  {
   "cell_type": "code",
   "execution_count": 207,
   "metadata": {},
   "outputs": [],
   "source": [
    "lines_per_cell = int(input(\"Enter the number of lines per cell: \"))"
   ]
  },
  {
   "cell_type": "code",
   "execution_count": 208,
   "metadata": {},
   "outputs": [],
   "source": [
    "# Convert integers to strings\n",
    "data_array = [[[str(item) for item in sublist] if isinstance(sublist[0], int) else sublist for sublist in data] for data in data_array]"
   ]
  },
  {
   "cell_type": "code",
   "execution_count": 209,
   "metadata": {},
   "outputs": [],
   "source": [
    "# Expand the data to the desired line count\n",
    "expanded_data = []\n",
    "for i, data in enumerate(data_array):\n",
    "    expanded_data.append(data * int(int(lines_per_cell) // len(data) + 1))"
   ]
  },
  {
   "cell_type": "code",
   "execution_count": 210,
   "metadata": {},
   "outputs": [],
   "source": [
    "# Shuffle the data\n",
    "for  i, data in enumerate(expanded_data):\n",
    "    random.shuffle(expanded_data[i])"
   ]
  },
  {
   "cell_type": "code",
   "execution_count": 211,
   "metadata": {},
   "outputs": [],
   "source": [
    "# Set start with original\n",
    "for  i, data in enumerate(expanded_data):\n",
    "   expanded_data[i] =  data_array[i]+expanded_data[i]"
   ]
  },
  {
   "cell_type": "code",
   "execution_count": 212,
   "metadata": {},
   "outputs": [],
   "source": [
    "# Trim the expanded data to the desired line count\n",
    "for  i, data in enumerate(expanded_data):\n",
    "    expanded_data[i] = expanded_data[i][:lines_per_cell]"
   ]
  },
  {
   "cell_type": "code",
   "execution_count": 213,
   "metadata": {},
   "outputs": [
    {
     "name": "stdout",
     "output_type": "stream",
     "text": [
      "0              test|2-test|3-test|4-test|5-apiwat|60001\n",
      "1         test2|2-test2|3-test2|4-test2|5-apiwat2|60002\n",
      "2         test3|2-test3|3-test3|4-test3|5-apiwat3|60003\n",
      "3         test3|2-test3|3-test4|4-test4|5-apiwat4|60004\n",
      "4           test|2-test|3-test5|4-test5|5-apiwat5|60005\n",
      "                             ...                       \n",
      "295        test|2-test2|3-test4|4-test3|5-apiwat9|60002\n",
      "296        test2|2-test|3-test8|4-test5|5-apiwat4|60004\n",
      "297    test2|2-test3|3-test7|4-test10|5-apiwat10|600010\n",
      "298       test3|2-test|3-test3|4-test8|5-apiwat10|60002\n",
      "299      test2|2-test|3-test12|4-test4|5-apiwat6|600012\n",
      "Length: 300, dtype: object\n"
     ]
    }
   ],
   "source": [
    "\n",
    "# Create DataFrames\n",
    "dfs = [pd.DataFrame(value, columns=[f'Column {i+1}' for i in range(len(value[0]))]) for value in expanded_data]\n",
    "\n",
    "# Concatenate DataFrames\n",
    "result_df = pd.concat(dfs, axis=1)\n",
    "\n",
    "\n",
    "# Format with \"|\" separators\n",
    "formatted_result = result_df.apply(lambda x: '|'.join(x), axis=1)\n",
    "\n",
    "print(formatted_result)\n"
   ]
  },
  {
   "cell_type": "code",
   "execution_count": 214,
   "metadata": {},
   "outputs": [],
   "source": [
    "\n",
    "# Write to a text file\n",
    "with open('formatted_data.txt', 'w') as file:\n",
    "    for line in formatted_result:\n",
    "        file.write(line + '\\n')\n"
   ]
  }
 ],
 "metadata": {
  "kernelspec": {
   "display_name": "Python 3",
   "language": "python",
   "name": "python3"
  },
  "language_info": {
   "codemirror_mode": {
    "name": "ipython",
    "version": 3
   },
   "file_extension": ".py",
   "mimetype": "text/x-python",
   "name": "python",
   "nbconvert_exporter": "python",
   "pygments_lexer": "ipython3",
   "version": "3.11.6"
  }
 },
 "nbformat": 4,
 "nbformat_minor": 2
}
